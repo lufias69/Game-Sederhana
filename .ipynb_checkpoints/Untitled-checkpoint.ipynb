{
 "cells": [
  {
   "cell_type": "code",
   "execution_count": 1,
   "metadata": {},
   "outputs": [
    {
     "name": "stdout",
     "output_type": "stream",
     "text": [
      "hello World\n"
     ]
    }
   ],
   "source": [
    "print(\"hello World\")"
   ]
  },
  {
   "cell_type": "code",
   "execution_count": 17,
   "metadata": {},
   "outputs": [],
   "source": [
    "class Karakter:\n",
    "    \n",
    "    def __init__ (self, inputNama):\n",
    "        self.nama = inputNama\n",
    "        self.poin = 0\n",
    "        self.darah = 100.0\n",
    "        self.hidup = True\n",
    "        \n",
    "        \n",
    "    def pukul(self, karakter_lawan):\n",
    "        if karakter_lawan.hidup:\n",
    "            karakter_lawan.darah = karakter_lawan.darah -5.0\n",
    "            self.poin = self.poin+5\n",
    "            \n",
    "            if karakter_lawan.darah <=0:\n",
    "                karakter_lawan.hidup =  False\n",
    "\n",
    "        else:\n",
    "            print(karakter_lawan.nama, \"sudah mati\") \n",
    "        \n",
    "    def cakar(self):\n",
    "        pass"
   ]
  },
  {
   "cell_type": "code",
   "execution_count": 18,
   "metadata": {},
   "outputs": [
    {
     "ename": "AttributeError",
     "evalue": "'Karakter' object has no attribute 'self'",
     "output_type": "error",
     "traceback": [
      "\u001b[1;31m----------------------------------------------------------------------\u001b[0m",
      "\u001b[1;31mAttributeError\u001b[0m                       Traceback (most recent call last)",
      "\u001b[1;32m<ipython-input-18-866d12dfe494>\u001b[0m in \u001b[0;36m<module>\u001b[1;34m\u001b[0m\n\u001b[0;32m      2\u001b[0m \u001b[0muya_kuya\u001b[0m \u001b[1;33m=\u001b[0m \u001b[0mKarakter\u001b[0m\u001b[1;33m(\u001b[0m\u001b[1;34m\"Uya kuya\"\u001b[0m\u001b[1;33m)\u001b[0m\u001b[1;33m\u001b[0m\u001b[1;33m\u001b[0m\u001b[0m\n\u001b[0;32m      3\u001b[0m \u001b[1;33m\u001b[0m\u001b[0m\n\u001b[1;32m----> 4\u001b[1;33m \u001b[0mdenise\u001b[0m\u001b[1;33m.\u001b[0m\u001b[0mpukul\u001b[0m\u001b[1;33m(\u001b[0m\u001b[0muya_kuya\u001b[0m\u001b[1;33m)\u001b[0m\u001b[1;33m\u001b[0m\u001b[1;33m\u001b[0m\u001b[0m\n\u001b[0m",
      "\u001b[1;32m<ipython-input-17-1110be1f5bef>\u001b[0m in \u001b[0;36mpukul\u001b[1;34m(self, karakter_lawan)\u001b[0m\n\u001b[0;32m     10\u001b[0m     \u001b[1;32mdef\u001b[0m \u001b[0mpukul\u001b[0m\u001b[1;33m(\u001b[0m\u001b[0mself\u001b[0m\u001b[1;33m,\u001b[0m \u001b[0mkarakter_lawan\u001b[0m\u001b[1;33m)\u001b[0m\u001b[1;33m:\u001b[0m\u001b[1;33m\u001b[0m\u001b[1;33m\u001b[0m\u001b[0m\n\u001b[0;32m     11\u001b[0m         \u001b[1;32mif\u001b[0m \u001b[0mkarakter_lawan\u001b[0m\u001b[1;33m.\u001b[0m\u001b[0mhidup\u001b[0m\u001b[1;33m:\u001b[0m\u001b[1;33m\u001b[0m\u001b[1;33m\u001b[0m\u001b[0m\n\u001b[1;32m---> 12\u001b[1;33m             \u001b[0mkarakter_lawan\u001b[0m\u001b[1;33m.\u001b[0m\u001b[0mself\u001b[0m\u001b[1;33m.\u001b[0m\u001b[0mdarah\u001b[0m \u001b[1;33m=\u001b[0m \u001b[0mkarakter_lawan\u001b[0m\u001b[1;33m.\u001b[0m\u001b[0mdarah\u001b[0m \u001b[1;33m-\u001b[0m\u001b[1;36m5.0\u001b[0m\u001b[1;33m\u001b[0m\u001b[1;33m\u001b[0m\u001b[0m\n\u001b[0m\u001b[0;32m     13\u001b[0m             \u001b[0mself\u001b[0m\u001b[1;33m.\u001b[0m\u001b[0mpoin\u001b[0m \u001b[1;33m=\u001b[0m \u001b[0mself\u001b[0m\u001b[1;33m.\u001b[0m\u001b[0mpoin\u001b[0m\u001b[1;33m+\u001b[0m\u001b[1;36m5\u001b[0m\u001b[1;33m\u001b[0m\u001b[1;33m\u001b[0m\u001b[0m\n\u001b[0;32m     14\u001b[0m \u001b[1;33m\u001b[0m\u001b[0m\n",
      "\u001b[1;31mAttributeError\u001b[0m: 'Karakter' object has no attribute 'self'"
     ]
    }
   ],
   "source": [
    "denise = Karakter(\"Denise\")\n",
    "uya_kuya = Karakter(\"Uya kuya\")\n",
    "\n",
    "denise.pukul(uya_kuya)"
   ]
  },
  {
   "cell_type": "code",
   "execution_count": 16,
   "metadata": {},
   "outputs": [],
   "source": []
  },
  {
   "cell_type": "code",
   "execution_count": null,
   "metadata": {},
   "outputs": [],
   "source": []
  }
 ],
 "metadata": {
  "kernelspec": {
   "display_name": "Python 3",
   "language": "python",
   "name": "python3"
  },
  "language_info": {
   "codemirror_mode": {
    "name": "ipython",
    "version": 3
   },
   "file_extension": ".py",
   "mimetype": "text/x-python",
   "name": "python",
   "nbconvert_exporter": "python",
   "pygments_lexer": "ipython3",
   "version": "3.7.6"
  }
 },
 "nbformat": 4,
 "nbformat_minor": 4
}
