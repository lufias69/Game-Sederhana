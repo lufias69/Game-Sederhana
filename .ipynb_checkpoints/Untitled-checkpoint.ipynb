{
 "cells": [
  {
   "cell_type": "code",
   "execution_count": 1,
   "metadata": {},
   "outputs": [
    {
     "name": "stdout",
     "output_type": "stream",
     "text": [
      "hello World\n"
     ]
    }
   ],
   "source": [
    "print(\"hello World\")"
   ]
  },
  {
   "cell_type": "code",
   "execution_count": 19,
   "metadata": {},
   "outputs": [],
   "source": [
    "class Karakter:\n",
    "    \n",
    "    def __init__ (self, inputNama):\n",
    "        self.nama = inputNama\n",
    "        self.poin = 0\n",
    "        self.darah = 100.0\n",
    "        self.hidup = True\n",
    "        \n",
    "        \n",
    "    def pukul(self, karakter_lawan):\n",
    "        if karakter_lawan.hidup:\n",
    "            karakter_lawan.darah = karakter_lawan.darah -5.0\n",
    "            self.poin = self.poin+5\n",
    "            \n",
    "            if karakter_lawan.darah <=0:\n",
    "                karakter_lawan.hidup =  False\n",
    "\n",
    "        else:\n",
    "            print(karakter_lawan.nama, \"sudah mati\") \n",
    "        \n",
    "    def cakar(self):\n",
    "        pass"
   ]
  },
  {
   "cell_type": "code",
   "execution_count": 20,
   "metadata": {},
   "outputs": [],
   "source": [
    "denise = Karakter(\"Denise\")\n",
    "uya_kuya = Karakter(\"Uya kuya\")\n",
    "\n",
    "denise.pukul(uya_kuya)"
   ]
  },
  {
   "cell_type": "code",
   "execution_count": 16,
   "metadata": {},
   "outputs": [],
   "source": []
  },
  {
   "cell_type": "code",
   "execution_count": null,
   "metadata": {},
   "outputs": [],
   "source": []
  }
 ],
 "metadata": {
  "kernelspec": {
   "display_name": "Python 3",
   "language": "python",
   "name": "python3"
  },
  "language_info": {
   "codemirror_mode": {
    "name": "ipython",
    "version": 3
   },
   "file_extension": ".py",
   "mimetype": "text/x-python",
   "name": "python",
   "nbconvert_exporter": "python",
   "pygments_lexer": "ipython3",
   "version": "3.7.6"
  }
 },
 "nbformat": 4,
 "nbformat_minor": 4
}
